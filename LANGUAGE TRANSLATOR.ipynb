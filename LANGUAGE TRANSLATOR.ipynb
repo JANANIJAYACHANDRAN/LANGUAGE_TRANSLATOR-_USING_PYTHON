{
 "cells": [
  {
   "cell_type": "code",
   "execution_count": 430,
   "id": "ac98b34a-89df-40b1-b433-2b5ed4ce6226",
   "metadata": {
    "scrolled": true
   },
   "outputs": [
    {
     "name": "stdout",
     "output_type": "stream",
     "text": [
      "Defaulting to user installation because normal site-packages is not writeable\n",
      "Requirement already satisfied: googletrans==4.0.0-rc1 in c:\\users\\janan\\appdata\\roaming\\python\\python312\\site-packages (4.0.0rc1)\n",
      "Requirement already satisfied: httpx==0.13.3 in c:\\users\\janan\\appdata\\roaming\\python\\python312\\site-packages (from googletrans==4.0.0-rc1) (0.13.3)\n",
      "Requirement already satisfied: certifi in c:\\programdata\\anaconda3\\lib\\site-packages (from httpx==0.13.3->googletrans==4.0.0-rc1) (2025.1.31)\n",
      "Requirement already satisfied: hstspreload in c:\\users\\janan\\appdata\\roaming\\python\\python312\\site-packages (from httpx==0.13.3->googletrans==4.0.0-rc1) (2025.1.1)\n",
      "Requirement already satisfied: sniffio in c:\\programdata\\anaconda3\\lib\\site-packages (from httpx==0.13.3->googletrans==4.0.0-rc1) (1.3.0)\n",
      "Requirement already satisfied: chardet==3.* in c:\\users\\janan\\appdata\\roaming\\python\\python312\\site-packages (from httpx==0.13.3->googletrans==4.0.0-rc1) (3.0.4)\n",
      "Requirement already satisfied: idna==2.* in c:\\users\\janan\\appdata\\roaming\\python\\python312\\site-packages (from httpx==0.13.3->googletrans==4.0.0-rc1) (2.10)\n",
      "Requirement already satisfied: rfc3986<2,>=1.3 in c:\\users\\janan\\appdata\\roaming\\python\\python312\\site-packages (from httpx==0.13.3->googletrans==4.0.0-rc1) (1.5.0)\n",
      "Requirement already satisfied: httpcore==0.9.* in c:\\users\\janan\\appdata\\roaming\\python\\python312\\site-packages (from httpx==0.13.3->googletrans==4.0.0-rc1) (0.9.1)\n",
      "Requirement already satisfied: h11<0.10,>=0.8 in c:\\users\\janan\\appdata\\roaming\\python\\python312\\site-packages (from httpcore==0.9.*->httpx==0.13.3->googletrans==4.0.0-rc1) (0.9.0)\n",
      "Requirement already satisfied: h2==3.* in c:\\users\\janan\\appdata\\roaming\\python\\python312\\site-packages (from httpcore==0.9.*->httpx==0.13.3->googletrans==4.0.0-rc1) (3.2.0)\n",
      "Requirement already satisfied: hyperframe<6,>=5.2.0 in c:\\users\\janan\\appdata\\roaming\\python\\python312\\site-packages (from h2==3.*->httpcore==0.9.*->httpx==0.13.3->googletrans==4.0.0-rc1) (5.2.0)\n",
      "Requirement already satisfied: hpack<4,>=3.0 in c:\\users\\janan\\appdata\\roaming\\python\\python312\\site-packages (from h2==3.*->httpcore==0.9.*->httpx==0.13.3->googletrans==4.0.0-rc1) (3.0.0)\n"
     ]
    }
   ],
   "source": [
    "!pip install googletrans==4.0.0-rc1\n"
   ]
  },
  {
   "cell_type": "code",
   "execution_count": 431,
   "id": "6d3d476c-2cba-4f42-b869-3f9c7bc6c704",
   "metadata": {},
   "outputs": [],
   "source": [
    "from tkinter import * \n",
    "from tkinter import ttk\n",
    "from googletrans import Translator, LANGUAGES"
   ]
  },
  {
   "cell_type": "code",
   "execution_count": 432,
   "id": "a21e440b-7522-4fa8-978f-9d9f31643200",
   "metadata": {},
   "outputs": [],
   "source": [
    "root= Tk()\n",
    "root.geometry('1100x320')\n",
    "root.resizable(0,0)\n",
    "\n",
    "root['bg']='purple'\n",
    "root.title('Language Translator by Janani J')\n",
    "Label(root, text= \"LANGUAGE TRANSLATOR\", font=\"Arial 20 bold\").pack()\n",
    "#root.mainloop()"
   ]
  },
  {
   "cell_type": "code",
   "execution_count": 433,
   "id": "c0b1f15b-0124-466f-9b0b-c9abf734c4eb",
   "metadata": {},
   "outputs": [],
   "source": [
    "#Label(root,text=\"Enter Text\",font ='arial 13 bold', bg='white smoke').place(x=165, y=90)\n",
    "#root.mainloop()"
   ]
  },
  {
   "cell_type": "code",
   "execution_count": null,
   "id": "921e7181-8adf-4e5e-b4a6-0bc4b1a861cf",
   "metadata": {},
   "outputs": [],
   "source": [
    "# Enter Text (left side)\n",
    "Label(root, text=\"Enter Text\", font='arial 13 bold', bg='whitesmoke').place(x=100, y=90)\n",
    "Input_text = Entry(root, width=40, font='arial 10')\n",
    "Input_text.place(x=100, y=130)\n",
    "# Output (right side)\n",
    "Label(root, text=\"Output\", font='arial 13 bold', bg='whitesmoke').place(x=400, y=90)\n",
    "output_text = Text(root, font='arial 10', height=5, wrap=WORD, padx=5, pady=5, width=40)\n",
    "output_text.place(x=400, y=130)\n",
    "language = list(LANGUAGES.values())\n",
    "dest_lang = ttk.Combobox(root, value=language, width=22)\n",
    "dest_lang.place(x=100, y=170)\n",
    "dest_lang.set('choose language')\n",
    "\n",
    "# Translate function\n",
    "def Translate():\n",
    "    translator = Translator()\n",
    "    translated = translator.translate(text=Input_text.get(), dest=dest_lang.get())\n",
    "    output_text.delete(1.0, END)\n",
    "    output_text.insert(END, translated.text)\n",
    "\n",
    "# Translate button (move below boxes neatly)\n",
    "trans_btn = Button(root, text=\"Translate\", font='arial 12 bold',\n",
    "                   pady=5, command=Translate, bg='orange', activebackground='green')\n",
    "trans_btn.place(x=280, y=250)\n",
    "\n",
    "root.mainloop()\n"
   ]
  },
  {
   "cell_type": "code",
   "execution_count": null,
   "id": "12b2d956-cbb5-48ee-ac21-dac6167b596d",
   "metadata": {},
   "outputs": [],
   "source": [
    "\n"
   ]
  }
 ],
 "metadata": {
  "kernelspec": {
   "display_name": "Python [conda env:base] *",
   "language": "python",
   "name": "conda-base-py"
  },
  "language_info": {
   "codemirror_mode": {
    "name": "ipython",
    "version": 3
   },
   "file_extension": ".py",
   "mimetype": "text/x-python",
   "name": "python",
   "nbconvert_exporter": "python",
   "pygments_lexer": "ipython3",
   "version": "3.12.7"
  }
 },
 "nbformat": 4,
 "nbformat_minor": 5
}
